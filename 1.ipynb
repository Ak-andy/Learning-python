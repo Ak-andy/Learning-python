{
 "cells": [
  {
   "cell_type": "code",
   "execution_count": 7,
   "metadata": {},
   "outputs": [],
   "source": [
    "# Learning-python\n",
    "\n",
    "name=input('Enter Student Name: ')\n",
    "roll= int(input('Enter Roll Number : '))\n",
    "class1=input('Enter Class : ')\n",
    "java= int(input('Enter JAVA Marks : '))\n",
    "c= int(input('Enter c++ Marks : '))\n",
    "python=int(input('Enter Python Marks : '))\n",
    "ruby=int(input('Enter Ruby Marks : '))\n",
    "sql=int(input('Enter SQL Marks : '))\n",
    "\n",
    "print('Student Name : ',name)\n",
    "print('Roll Number ; ',roll)\n",
    "print('class : ',class1)\n",
    "print('java marks : ',java)\n",
    "print('c++ marks : ',c)\n",
    "print('python marks :',python)\n",
    "print(' ruby marks: ',ruby)\n",
    "print('sql marks : ',sql)\n",
    "\n"
   ]
  }
 ],
 "metadata": {
  "kernelspec": {
   "display_name": "Python 3",
   "language": "python",
   "name": "python3"
  },
  "language_info": {
   "codemirror_mode": {
    "name": "ipython",
    "version": 3
   },
   "file_extension": ".py",
   "mimetype": "text/x-python",
   "name": "python",
   "nbconvert_exporter": "python",
   "pygments_lexer": "ipython3",
   "version": "3.10.13"
  }
 },
 "nbformat": 4,
 "nbformat_minor": 2
}
